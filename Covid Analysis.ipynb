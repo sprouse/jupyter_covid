{
 "cells": [
  {
   "cell_type": "code",
   "execution_count": null,
   "metadata": {},
   "outputs": [],
   "source": [
    "from IPython.core.display import display, HTML, Markdown\n",
    "import matplotlib.pyplot as plt\n",
    "import pandas as pd\n",
    "import dateparser\n",
    "import seaborn as sns\n",
    "from tqdm import tqdm\n",
    "\n",
    "pd.set_option('display.max_rows', 100)\n",
    "\n",
    "display(HTML(\"<style>.container { width:100% !important; }</style>\"))"
   ]
  },
  {
   "cell_type": "code",
   "execution_count": null,
   "metadata": {},
   "outputs": [],
   "source": [
    "%matplotlib inline"
   ]
  },
  {
   "cell_type": "code",
   "execution_count": 183,
   "metadata": {},
   "outputs": [],
   "source": [
    "df_states = pd.read_csv(\"covid-19-data/us-states.csv\")\n",
    "df_states.rename(columns={\"cases\": \"total_cases\"}, inplace=True)\n",
    "df_counties = pd.read_csv(\"covid-19-data/us-counties.csv\")\n",
    "df_counties.rename(columns={\"cases\": \"total_cases\"}, inplace=True)"
   ]
  },
  {
   "cell_type": "code",
   "execution_count": 186,
   "metadata": {},
   "outputs": [],
   "source": [
    "df_counties.loc[(df_counties.county == 'New York City') &\n",
    "                (df_counties.state == 'New York'), 'fips'] = 36061"
   ]
  },
  {
   "cell_type": "code",
   "execution_count": 218,
   "metadata": {},
   "outputs": [],
   "source": [
    "# Read population data\n",
    "df_population = pd.read_csv(\"co-est2019-alldata.csv.gz\", encoding = \"ISO-8859-1\" )\n",
    "df_population['fips'] = df_population.apply(lambda x: f\"{x.STATE}{x.COUNTY:03}\", axis=1)\n",
    "fips_to_pop = dict(zip(df_population.fips.astype(int), df_population.POPESTIMATE2019))"
   ]
  },
  {
   "cell_type": "code",
   "execution_count": null,
   "metadata": {},
   "outputs": [],
   "source": [
    "df"
   ]
  },
  {
   "cell_type": "code",
   "execution_count": 193,
   "metadata": {},
   "outputs": [],
   "source": [
    "def calc(df):\n",
    "    df['new_cases'] = df.groupby('fips')['total_cases'].diff()"
   ]
  },
  {
   "cell_type": "code",
   "execution_count": 194,
   "metadata": {},
   "outputs": [],
   "source": [
    "calc(df_counties)\n",
    "calc(df_states)"
   ]
  },
  {
   "cell_type": "code",
   "execution_count": 195,
   "metadata": {},
   "outputs": [],
   "source": [
    "fips_to_state= {k:v for d in list(df_states.groupby([\"state\"]).first().apply(lambda x: {x.fips: x.name}, axis=1)) for k, v in d.items()}\n",
    "state_to_fips= {k:v for d in list(df_states.groupby([\"state\"]).first().apply(lambda x: {x.name: x.fips}, axis=1)) for k, v in d.items()}"
   ]
  },
  {
   "cell_type": "code",
   "execution_count": 196,
   "metadata": {},
   "outputs": [],
   "source": [
    "fips_to_county= {k:v for d in list(df_counties.groupby([\"county\", \"state\"]).first().apply(lambda x: {x.fips: x.name}, axis=1)) for k, v in d.items()}\n",
    "county_to_fips= {k:v for d in list(df_counties.groupby([\"county\", \"state\"]).first().apply(lambda x: {x.name: x.fips}, axis=1)) for k, v in d.items()}"
   ]
  },
  {
   "cell_type": "markdown",
   "metadata": {},
   "source": [
    "# Overview"
   ]
  },
  {
   "cell_type": "markdown",
   "metadata": {},
   "source": [
    "The New York Times publishes their Covid-19 dataset daily to github here: `https://github.com/nytimes/covid-19-data.git`\n",
    "\n",
    "This notebook was inspired by the Minute Physics YouTube video: https://www.youtube.com/watch?v=54XLXg4fYsc\n",
    "\n",
    "I wanted to recreate at the local county level the plots that are shown on this site: https://aatishb.com/covidtrends/"
   ]
  },
  {
   "cell_type": "markdown",
   "metadata": {},
   "source": [
    "# Plots"
   ]
  },
  {
   "cell_type": "code",
   "execution_count": null,
   "metadata": {},
   "outputs": [],
   "source": [
    "# Aatish B's log log plot\n",
    "def ll_plot(df, geos, xlim=None, max_pop=None):\n",
    "    ax = plt.gca()\n",
    "    for geo in geos:\n",
    "        if isinstance(geo, tuple):\n",
    "            fip = county_to_fips[geo]\n",
    "            label = f\"{geo[0]}, {geo[1]}\"\n",
    "        else:\n",
    "            fip = state_to_fips[geo]\n",
    "            label = geo\n",
    "        df.query(f\"fips=={fip}\").plot(\n",
    "            x='total_cases', y='new_cases', label=label, ax=ax)\n",
    "    plt.yscale(\"log\")\n",
    "    plt.xscale(\"log\")\n",
    "    plt.ylabel(\"Daily New Cases\")\n",
    "    if xlim:\n",
    "        plt.xlim(1, xlim)\n",
    "    if max_pop:\n",
    "        ax.plot([max_pop[1], max_pop[1]], [1, 1e6],\n",
    "                color=\"red\", linestyle=\"--\")\n",
    "        ax.text(max_pop[1]*.75, 1e1, f\"{max_pop[0]} Population\", rotation=90)"
   ]
  },
  {
   "cell_type": "code",
   "execution_count": null,
   "metadata": {
    "hide_input": false
   },
   "outputs": [],
   "source": [
    "def decade_time(county, state, end_value=None):\n",
    "    df=df_counties\n",
    "    state = state.replace(\"'\", \"\\\\'\")\n",
    "    county = county.replace(\"'\", \"\\\\'\")\n",
    "\n",
    "    if not end_value:\n",
    "        end_value = df.query(f\"state=='{state}' and county=='{county}'\").total_cases.max()\n",
    "    try:\n",
    "        x = df.query(f\"state=='{state}' and county=='{county}' and total_cases<{end_value}\").iloc[-1].date\n",
    "        y = df.query(f\"state=='{state}' and county=='{county}' and total_cases<{end_value/10}\").iloc[-1].date\n",
    "        xd = dateparser.parse(x)\n",
    "        yd = dateparser.parse(y)\n",
    "        delta = xd - yd\n",
    "    except IndexError:\n",
    "        return None\n",
    "    return delta.days"
   ]
  },
  {
   "cell_type": "markdown",
   "metadata": {},
   "source": [
    "The `log-log` plot does not show time and one might wonder how long does it take for the total cases to increase by a factor of 10x. (I called this \" _decade time_ \" ).\n",
    "In each county, for each day compute how many days have elapsed since the total number of cases was 1/10 the current total number of cases.\n",
    "\n",
    "Social distancing should be slowing the rate at which the total cases are growing.\n",
    "We calculate the _decade time_ for every day and for every county.\n",
    "\n",
    "**Note that this calculation may take more than 5 minutes to complete**"
   ]
  },
  {
   "cell_type": "code",
   "execution_count": null,
   "metadata": {},
   "outputs": [],
   "source": [
    "tqdm.pandas()\n",
    "if 'decade_time' not in df_counties.columns:\n",
    "    df_counties['decade_time'] = df_counties.progress_apply(lambda row: decade_time(row.county, row.state, row.total_cases), axis=1)"
   ]
  },
  {
   "cell_type": "markdown",
   "metadata": {},
   "source": [
    "## State Plots"
   ]
  },
  {
   "cell_type": "code",
   "execution_count": null,
   "metadata": {
    "scrolled": true
   },
   "outputs": [],
   "source": [
    "ll_plot(df_states.query(\"total_cases>50\"), geos=[\n",
    "    'California',\n",
    "    'New York',\n",
    "    'Washington',\n",
    "    'Colorado',\n",
    "    \"Michigan\"\n",
    "])"
   ]
  },
  {
   "cell_type": "code",
   "execution_count": 202,
   "metadata": {},
   "outputs": [],
   "source": [
    "def plot_county(county, state):\n",
    "    fips = county_to_fips[(county, state)]\n",
    "    pop = fips_to_pop[fips]\n",
    "    display(Markdown(f\"## {county}, {state}\"))\n",
    "    ll_plot(df_counties.query(\"total_cases > 50\"),\n",
    "           geos=[(county, state)],\n",
    "           max_pop=(county, pop)\n",
    "           )\n",
    "    display(Markdown(f\"{county}'s current decade time is {decade_time(county, state)} days\"))\n",
    "    display(Markdown(f\"{county}'s population {pop/1e6:.2f} million\"))"
   ]
  },
  {
   "cell_type": "code",
   "execution_count": 203,
   "metadata": {},
   "outputs": [
    {
     "data": {
      "text/markdown": [
       "## New York City, New York"
      ],
      "text/plain": [
       "<IPython.core.display.Markdown object>"
      ]
     },
     "metadata": {},
     "output_type": "display_data"
    },
    {
     "data": {
      "text/markdown": [
       "New York City's current decade time is 11 days"
      ],
      "text/plain": [
       "<IPython.core.display.Markdown object>"
      ]
     },
     "metadata": {},
     "output_type": "display_data"
    },
    {
     "data": {
      "text/markdown": [
       "New York City's population 1.63 million"
      ],
      "text/plain": [
       "<IPython.core.display.Markdown object>"
      ]
     },
     "metadata": {},
     "output_type": "display_data"
    },
    {
     "data": {
      "image/png": "[encoded data removed]",
      "text/plain": [
       "<Figure size 432x288 with 1 Axes>"
      ]
     },
     "metadata": {
      "needs_background": "light"
     },
     "output_type": "display_data"
    }
   ],
   "source": [
    "plot_county(\"New York City\", \"New York\")"
   ]
  },
  {
   "cell_type": "code",
   "execution_count": 204,
   "metadata": {},
   "outputs": [
    {
     "data": {
      "text/plain": [
       "36061.0"
      ]
     },
     "execution_count": 204,
     "metadata": {},
     "output_type": "execute_result"
    }
   ],
   "source": [
    "county_to_fips['New York City', 'New York']"
   ]
  },
  {
   "cell_type": "code",
   "execution_count": 205,
   "metadata": {},
   "outputs": [
    {
     "data": {
      "text/markdown": [
       "## Boulder, Colorado"
      ],
      "text/plain": [
       "<IPython.core.display.Markdown object>"
      ]
     },
     "metadata": {},
     "output_type": "display_data"
    },
    {
     "data": {
      "text/markdown": [
       "Boulder's current decade time is 12 days"
      ],
      "text/plain": [
       "<IPython.core.display.Markdown object>"
      ]
     },
     "metadata": {},
     "output_type": "display_data"
    },
    {
     "data": {
      "text/markdown": [
       "Boulder's population 0.33 million"
      ],
      "text/plain": [
       "<IPython.core.display.Markdown object>"
      ]
     },
     "metadata": {},
     "output_type": "display_data"
    },
    {
     "data": {
      "image/png": "[encoded data removed]",
      "text/plain": [
       "<Figure size 432x288 with 1 Axes>"
      ]
     },
     "metadata": {
      "needs_background": "light"
     },
     "output_type": "display_data"
    }
   ],
   "source": [
    "plot_county('Boulder', 'Colorado')"
   ]
  },
  {
   "cell_type": "code",
   "execution_count": 206,
   "metadata": {},
   "outputs": [
    {
     "data": {
      "text/markdown": [
       "## Wayne, Michigan"
      ],
      "text/plain": [
       "<IPython.core.display.Markdown object>"
      ]
     },
     "metadata": {},
     "output_type": "display_data"
    },
    {
     "data": {
      "text/markdown": [
       "Wayne's current decade time is 10 days"
      ],
      "text/plain": [
       "<IPython.core.display.Markdown object>"
      ]
     },
     "metadata": {},
     "output_type": "display_data"
    },
    {
     "data": {
      "text/markdown": [
       "Wayne's population 1.75 million"
      ],
      "text/plain": [
       "<IPython.core.display.Markdown object>"
      ]
     },
     "metadata": {},
     "output_type": "display_data"
    },
    {
     "data": {
      "image/png": "[encoded data removed]",
      "text/plain": [
       "<Figure size 432x288 with 1 Axes>"
      ]
     },
     "metadata": {
      "needs_background": "light"
     },
     "output_type": "display_data"
    }
   ],
   "source": [
    "plot_county('Wayne', 'Michigan')"
   ]
  },
  {
   "cell_type": "code",
   "execution_count": 207,
   "metadata": {},
   "outputs": [
    {
     "data": {
      "text/markdown": [
       "## Santa Clara, California"
      ],
      "text/plain": [
       "<IPython.core.display.Markdown object>"
      ]
     },
     "metadata": {},
     "output_type": "display_data"
    },
    {
     "data": {
      "text/markdown": [
       "Santa Clara's current decade time is 17 days"
      ],
      "text/plain": [
       "<IPython.core.display.Markdown object>"
      ]
     },
     "metadata": {},
     "output_type": "display_data"
    },
    {
     "data": {
      "text/markdown": [
       "Santa Clara's population 1.93 million"
      ],
      "text/plain": [
       "<IPython.core.display.Markdown object>"
      ]
     },
     "metadata": {},
     "output_type": "display_data"
    },
    {
     "data": {
      "image/png": "[encoded data removed]",
      "text/plain": [
       "<Figure size 432x288 with 1 Axes>"
      ]
     },
     "metadata": {
      "needs_background": "light"
     },
     "output_type": "display_data"
    }
   ],
   "source": [
    "plot_county('Santa Clara', 'California')"
   ]
  },
  {
   "cell_type": "code",
   "execution_count": 208,
   "metadata": {},
   "outputs": [
    {
     "data": {
      "text/markdown": [
       "## Suffolk, New York"
      ],
      "text/plain": [
       "<IPython.core.display.Markdown object>"
      ]
     },
     "metadata": {},
     "output_type": "display_data"
    },
    {
     "data": {
      "text/markdown": [
       "Suffolk's current decade time is 10 days"
      ],
      "text/plain": [
       "<IPython.core.display.Markdown object>"
      ]
     },
     "metadata": {},
     "output_type": "display_data"
    },
    {
     "data": {
      "text/markdown": [
       "Suffolk's population 1.48 million"
      ],
      "text/plain": [
       "<IPython.core.display.Markdown object>"
      ]
     },
     "metadata": {},
     "output_type": "display_data"
    },
    {
     "data": {
      "image/png": "[encoded data removed]",
      "text/plain": [
       "<Figure size 432x288 with 1 Axes>"
      ]
     },
     "metadata": {
      "needs_background": "light"
     },
     "output_type": "display_data"
    }
   ],
   "source": [
    "plot_county('Suffolk', 'New York')"
   ]
  },
  {
   "cell_type": "code",
   "execution_count": 209,
   "metadata": {},
   "outputs": [
    {
     "data": {
      "text/markdown": [
       "## Passaic, New Jersey"
      ],
      "text/plain": [
       "<IPython.core.display.Markdown object>"
      ]
     },
     "metadata": {},
     "output_type": "display_data"
    },
    {
     "data": {
      "text/markdown": [
       "Passaic's current decade time is 8 days"
      ],
      "text/plain": [
       "<IPython.core.display.Markdown object>"
      ]
     },
     "metadata": {},
     "output_type": "display_data"
    },
    {
     "data": {
      "text/markdown": [
       "Passaic's population 0.50 million"
      ],
      "text/plain": [
       "<IPython.core.display.Markdown object>"
      ]
     },
     "metadata": {},
     "output_type": "display_data"
    },
    {
     "data": {
      "image/png": "[encoded data removed]",
      "text/plain": [
       "<Figure size 432x288 with 1 Axes>"
      ]
     },
     "metadata": {
      "needs_background": "light"
     },
     "output_type": "display_data"
    }
   ],
   "source": [
    "plot_county('Passaic', 'New Jersey')"
   ]
  },
  {
   "cell_type": "markdown",
   "metadata": {},
   "source": [
    "# Tables of \"Decade Times\""
   ]
  },
  {
   "cell_type": "code",
   "execution_count": 210,
   "metadata": {},
   "outputs": [],
   "source": [
    "def show_decade(county, state, tail=14):\n",
    "    display(Markdown(f\"## {county} {state} Decade Times (Past Two Weeks)\"))\n",
    "    display(df_counties.query(f\"state=='{state}' and county=='{county}'\").tail(tail))"
   ]
  },
  {
   "cell_type": "code",
   "execution_count": 211,
   "metadata": {},
   "outputs": [
    {
     "data": {
      "text/markdown": [
       "## Boulder Colorado Decade Times (Past Two Weeks)"
      ],
      "text/plain": [
       "<IPython.core.display.Markdown object>"
      ]
     },
     "metadata": {},
     "output_type": "display_data"
    },
    {
     "data": {
      "text/html": [
       "<div>\n",
       "<style scoped>\n",
       "    .dataframe tbody tr th:only-of-type {\n",
       "        vertical-align: middle;\n",
       "    }\n",
       "\n",
       "    .dataframe tbody tr th {\n",
       "        vertical-align: top;\n",
       "    }\n",
       "\n",
       "    .dataframe thead th {\n",
       "        text-align: right;\n",
       "    }\n",
       "</style>\n",
       "<table border=\"1\" class=\"dataframe\">\n",
       "  <thead>\n",
       "    <tr style=\"text-align: right;\">\n",
       "      <th></th>\n",
       "      <th>date</th>\n",
       "      <th>county</th>\n",
       "      <th>state</th>\n",
       "      <th>fips</th>\n",
       "      <th>total_cases</th>\n",
       "      <th>deaths</th>\n",
       "      <th>new_cases</th>\n",
       "    </tr>\n",
       "  </thead>\n",
       "  <tbody>\n",
       "    <tr>\n",
       "      <th>4488</th>\n",
       "      <td>2020-03-19</td>\n",
       "      <td>Boulder</td>\n",
       "      <td>Colorado</td>\n",
       "      <td>8013.0</td>\n",
       "      <td>11</td>\n",
       "      <td>0</td>\n",
       "      <td>3.0</td>\n",
       "    </tr>\n",
       "    <tr>\n",
       "      <th>5263</th>\n",
       "      <td>2020-03-20</td>\n",
       "      <td>Boulder</td>\n",
       "      <td>Colorado</td>\n",
       "      <td>8013.0</td>\n",
       "      <td>24</td>\n",
       "      <td>0</td>\n",
       "      <td>13.0</td>\n",
       "    </tr>\n",
       "    <tr>\n",
       "      <th>6186</th>\n",
       "      <td>2020-03-21</td>\n",
       "      <td>Boulder</td>\n",
       "      <td>Colorado</td>\n",
       "      <td>8013.0</td>\n",
       "      <td>30</td>\n",
       "      <td>0</td>\n",
       "      <td>6.0</td>\n",
       "    </tr>\n",
       "    <tr>\n",
       "      <th>7221</th>\n",
       "      <td>2020-03-22</td>\n",
       "      <td>Boulder</td>\n",
       "      <td>Colorado</td>\n",
       "      <td>8013.0</td>\n",
       "      <td>37</td>\n",
       "      <td>0</td>\n",
       "      <td>7.0</td>\n",
       "    </tr>\n",
       "    <tr>\n",
       "      <th>8364</th>\n",
       "      <td>2020-03-23</td>\n",
       "      <td>Boulder</td>\n",
       "      <td>Colorado</td>\n",
       "      <td>8013.0</td>\n",
       "      <td>39</td>\n",
       "      <td>0</td>\n",
       "      <td>2.0</td>\n",
       "    </tr>\n",
       "    <tr>\n",
       "      <th>9608</th>\n",
       "      <td>2020-03-24</td>\n",
       "      <td>Boulder</td>\n",
       "      <td>Colorado</td>\n",
       "      <td>8013.0</td>\n",
       "      <td>49</td>\n",
       "      <td>0</td>\n",
       "      <td>10.0</td>\n",
       "    </tr>\n",
       "    <tr>\n",
       "      <th>10984</th>\n",
       "      <td>2020-03-25</td>\n",
       "      <td>Boulder</td>\n",
       "      <td>Colorado</td>\n",
       "      <td>8013.0</td>\n",
       "      <td>51</td>\n",
       "      <td>0</td>\n",
       "      <td>2.0</td>\n",
       "    </tr>\n",
       "    <tr>\n",
       "      <th>12535</th>\n",
       "      <td>2020-03-26</td>\n",
       "      <td>Boulder</td>\n",
       "      <td>Colorado</td>\n",
       "      <td>8013.0</td>\n",
       "      <td>66</td>\n",
       "      <td>0</td>\n",
       "      <td>15.0</td>\n",
       "    </tr>\n",
       "    <tr>\n",
       "      <th>14213</th>\n",
       "      <td>2020-03-27</td>\n",
       "      <td>Boulder</td>\n",
       "      <td>Colorado</td>\n",
       "      <td>8013.0</td>\n",
       "      <td>76</td>\n",
       "      <td>1</td>\n",
       "      <td>10.0</td>\n",
       "    </tr>\n",
       "    <tr>\n",
       "      <th>16007</th>\n",
       "      <td>2020-03-28</td>\n",
       "      <td>Boulder</td>\n",
       "      <td>Colorado</td>\n",
       "      <td>8013.0</td>\n",
       "      <td>84</td>\n",
       "      <td>1</td>\n",
       "      <td>8.0</td>\n",
       "    </tr>\n",
       "    <tr>\n",
       "      <th>17909</th>\n",
       "      <td>2020-03-29</td>\n",
       "      <td>Boulder</td>\n",
       "      <td>Colorado</td>\n",
       "      <td>8013.0</td>\n",
       "      <td>90</td>\n",
       "      <td>1</td>\n",
       "      <td>6.0</td>\n",
       "    </tr>\n",
       "    <tr>\n",
       "      <th>19901</th>\n",
       "      <td>2020-03-30</td>\n",
       "      <td>Boulder</td>\n",
       "      <td>Colorado</td>\n",
       "      <td>8013.0</td>\n",
       "      <td>100</td>\n",
       "      <td>1</td>\n",
       "      <td>10.0</td>\n",
       "    </tr>\n",
       "    <tr>\n",
       "      <th>21990</th>\n",
       "      <td>2020-03-31</td>\n",
       "      <td>Boulder</td>\n",
       "      <td>Colorado</td>\n",
       "      <td>8013.0</td>\n",
       "      <td>107</td>\n",
       "      <td>2</td>\n",
       "      <td>7.0</td>\n",
       "    </tr>\n",
       "    <tr>\n",
       "      <th>24162</th>\n",
       "      <td>2020-04-01</td>\n",
       "      <td>Boulder</td>\n",
       "      <td>Colorado</td>\n",
       "      <td>8013.0</td>\n",
       "      <td>114</td>\n",
       "      <td>2</td>\n",
       "      <td>7.0</td>\n",
       "    </tr>\n",
       "  </tbody>\n",
       "</table>\n",
       "</div>"
      ],
      "text/plain": [
       "             date   county     state    fips  total_cases  deaths  new_cases\n",
       "4488   2020-03-19  Boulder  Colorado  8013.0           11       0        3.0\n",
       "5263   2020-03-20  Boulder  Colorado  8013.0           24       0       13.0\n",
       "6186   2020-03-21  Boulder  Colorado  8013.0           30       0        6.0\n",
       "7221   2020-03-22  Boulder  Colorado  8013.0           37       0        7.0\n",
       "8364   2020-03-23  Boulder  Colorado  8013.0           39       0        2.0\n",
       "9608   2020-03-24  Boulder  Colorado  8013.0           49       0       10.0\n",
       "10984  2020-03-25  Boulder  Colorado  8013.0           51       0        2.0\n",
       "12535  2020-03-26  Boulder  Colorado  8013.0           66       0       15.0\n",
       "14213  2020-03-27  Boulder  Colorado  8013.0           76       1       10.0\n",
       "16007  2020-03-28  Boulder  Colorado  8013.0           84       1        8.0\n",
       "17909  2020-03-29  Boulder  Colorado  8013.0           90       1        6.0\n",
       "19901  2020-03-30  Boulder  Colorado  8013.0          100       1       10.0\n",
       "21990  2020-03-31  Boulder  Colorado  8013.0          107       2        7.0\n",
       "24162  2020-04-01  Boulder  Colorado  8013.0          114       2        7.0"
      ]
     },
     "metadata": {},
     "output_type": "display_data"
    }
   ],
   "source": [
    "show_decade('Boulder', 'Colorado')"
   ]
  },
  {
   "cell_type": "code",
   "execution_count": 212,
   "metadata": {},
   "outputs": [
    {
     "data": {
      "text/markdown": [
       "## Weld Colorado Decade Times (Past Two Weeks)"
      ],
      "text/plain": [
       "<IPython.core.display.Markdown object>"
      ]
     },
     "metadata": {},
     "output_type": "display_data"
    },
    {
     "data": {
      "text/html": [
       "<div>\n",
       "<style scoped>\n",
       "    .dataframe tbody tr th:only-of-type {\n",
       "        vertical-align: middle;\n",
       "    }\n",
       "\n",
       "    .dataframe tbody tr th {\n",
       "        vertical-align: top;\n",
       "    }\n",
       "\n",
       "    .dataframe thead th {\n",
       "        text-align: right;\n",
       "    }\n",
       "</style>\n",
       "<table border=\"1\" class=\"dataframe\">\n",
       "  <thead>\n",
       "    <tr style=\"text-align: right;\">\n",
       "      <th></th>\n",
       "      <th>date</th>\n",
       "      <th>county</th>\n",
       "      <th>state</th>\n",
       "      <th>fips</th>\n",
       "      <th>total_cases</th>\n",
       "      <th>deaths</th>\n",
       "      <th>new_cases</th>\n",
       "    </tr>\n",
       "  </thead>\n",
       "  <tbody>\n",
       "    <tr>\n",
       "      <th>4506</th>\n",
       "      <td>2020-03-19</td>\n",
       "      <td>Weld</td>\n",
       "      <td>Colorado</td>\n",
       "      <td>8123.0</td>\n",
       "      <td>9</td>\n",
       "      <td>1</td>\n",
       "      <td>0.0</td>\n",
       "    </tr>\n",
       "    <tr>\n",
       "      <th>5284</th>\n",
       "      <td>2020-03-20</td>\n",
       "      <td>Weld</td>\n",
       "      <td>Colorado</td>\n",
       "      <td>8123.0</td>\n",
       "      <td>15</td>\n",
       "      <td>1</td>\n",
       "      <td>6.0</td>\n",
       "    </tr>\n",
       "    <tr>\n",
       "      <th>6211</th>\n",
       "      <td>2020-03-21</td>\n",
       "      <td>Weld</td>\n",
       "      <td>Colorado</td>\n",
       "      <td>8123.0</td>\n",
       "      <td>21</td>\n",
       "      <td>1</td>\n",
       "      <td>6.0</td>\n",
       "    </tr>\n",
       "    <tr>\n",
       "      <th>7247</th>\n",
       "      <td>2020-03-22</td>\n",
       "      <td>Weld</td>\n",
       "      <td>Colorado</td>\n",
       "      <td>8123.0</td>\n",
       "      <td>37</td>\n",
       "      <td>2</td>\n",
       "      <td>16.0</td>\n",
       "    </tr>\n",
       "    <tr>\n",
       "      <th>8393</th>\n",
       "      <td>2020-03-23</td>\n",
       "      <td>Weld</td>\n",
       "      <td>Colorado</td>\n",
       "      <td>8123.0</td>\n",
       "      <td>50</td>\n",
       "      <td>2</td>\n",
       "      <td>13.0</td>\n",
       "    </tr>\n",
       "    <tr>\n",
       "      <th>9640</th>\n",
       "      <td>2020-03-24</td>\n",
       "      <td>Weld</td>\n",
       "      <td>Colorado</td>\n",
       "      <td>8123.0</td>\n",
       "      <td>76</td>\n",
       "      <td>2</td>\n",
       "      <td>26.0</td>\n",
       "    </tr>\n",
       "    <tr>\n",
       "      <th>11017</th>\n",
       "      <td>2020-03-25</td>\n",
       "      <td>Weld</td>\n",
       "      <td>Colorado</td>\n",
       "      <td>8123.0</td>\n",
       "      <td>87</td>\n",
       "      <td>4</td>\n",
       "      <td>11.0</td>\n",
       "    </tr>\n",
       "    <tr>\n",
       "      <th>12571</th>\n",
       "      <td>2020-03-26</td>\n",
       "      <td>Weld</td>\n",
       "      <td>Colorado</td>\n",
       "      <td>8123.0</td>\n",
       "      <td>107</td>\n",
       "      <td>4</td>\n",
       "      <td>20.0</td>\n",
       "    </tr>\n",
       "    <tr>\n",
       "      <th>14251</th>\n",
       "      <td>2020-03-27</td>\n",
       "      <td>Weld</td>\n",
       "      <td>Colorado</td>\n",
       "      <td>8123.0</td>\n",
       "      <td>129</td>\n",
       "      <td>6</td>\n",
       "      <td>22.0</td>\n",
       "    </tr>\n",
       "    <tr>\n",
       "      <th>16046</th>\n",
       "      <td>2020-03-28</td>\n",
       "      <td>Weld</td>\n",
       "      <td>Colorado</td>\n",
       "      <td>8123.0</td>\n",
       "      <td>161</td>\n",
       "      <td>7</td>\n",
       "      <td>32.0</td>\n",
       "    </tr>\n",
       "    <tr>\n",
       "      <th>17950</th>\n",
       "      <td>2020-03-29</td>\n",
       "      <td>Weld</td>\n",
       "      <td>Colorado</td>\n",
       "      <td>8123.0</td>\n",
       "      <td>180</td>\n",
       "      <td>9</td>\n",
       "      <td>19.0</td>\n",
       "    </tr>\n",
       "    <tr>\n",
       "      <th>19943</th>\n",
       "      <td>2020-03-30</td>\n",
       "      <td>Weld</td>\n",
       "      <td>Colorado</td>\n",
       "      <td>8123.0</td>\n",
       "      <td>215</td>\n",
       "      <td>10</td>\n",
       "      <td>35.0</td>\n",
       "    </tr>\n",
       "    <tr>\n",
       "      <th>22034</th>\n",
       "      <td>2020-03-31</td>\n",
       "      <td>Weld</td>\n",
       "      <td>Colorado</td>\n",
       "      <td>8123.0</td>\n",
       "      <td>255</td>\n",
       "      <td>12</td>\n",
       "      <td>40.0</td>\n",
       "    </tr>\n",
       "    <tr>\n",
       "      <th>24206</th>\n",
       "      <td>2020-04-01</td>\n",
       "      <td>Weld</td>\n",
       "      <td>Colorado</td>\n",
       "      <td>8123.0</td>\n",
       "      <td>293</td>\n",
       "      <td>13</td>\n",
       "      <td>38.0</td>\n",
       "    </tr>\n",
       "  </tbody>\n",
       "</table>\n",
       "</div>"
      ],
      "text/plain": [
       "             date county     state    fips  total_cases  deaths  new_cases\n",
       "4506   2020-03-19   Weld  Colorado  8123.0            9       1        0.0\n",
       "5284   2020-03-20   Weld  Colorado  8123.0           15       1        6.0\n",
       "6211   2020-03-21   Weld  Colorado  8123.0           21       1        6.0\n",
       "7247   2020-03-22   Weld  Colorado  8123.0           37       2       16.0\n",
       "8393   2020-03-23   Weld  Colorado  8123.0           50       2       13.0\n",
       "9640   2020-03-24   Weld  Colorado  8123.0           76       2       26.0\n",
       "11017  2020-03-25   Weld  Colorado  8123.0           87       4       11.0\n",
       "12571  2020-03-26   Weld  Colorado  8123.0          107       4       20.0\n",
       "14251  2020-03-27   Weld  Colorado  8123.0          129       6       22.0\n",
       "16046  2020-03-28   Weld  Colorado  8123.0          161       7       32.0\n",
       "17950  2020-03-29   Weld  Colorado  8123.0          180       9       19.0\n",
       "19943  2020-03-30   Weld  Colorado  8123.0          215      10       35.0\n",
       "22034  2020-03-31   Weld  Colorado  8123.0          255      12       40.0\n",
       "24206  2020-04-01   Weld  Colorado  8123.0          293      13       38.0"
      ]
     },
     "metadata": {},
     "output_type": "display_data"
    }
   ],
   "source": [
    "show_decade('Weld', 'Colorado')"
   ]
  },
  {
   "cell_type": "code",
   "execution_count": 213,
   "metadata": {},
   "outputs": [
    {
     "data": {
      "text/markdown": [
       "## Santa Clara California Decade Times (Past Two Weeks)"
      ],
      "text/plain": [
       "<IPython.core.display.Markdown object>"
      ]
     },
     "metadata": {},
     "output_type": "display_data"
    },
    {
     "data": {
      "text/html": [
       "<div>\n",
       "<style scoped>\n",
       "    .dataframe tbody tr th:only-of-type {\n",
       "        vertical-align: middle;\n",
       "    }\n",
       "\n",
       "    .dataframe tbody tr th {\n",
       "        vertical-align: top;\n",
       "    }\n",
       "\n",
       "    .dataframe thead th {\n",
       "        text-align: right;\n",
       "    }\n",
       "</style>\n",
       "<table border=\"1\" class=\"dataframe\">\n",
       "  <thead>\n",
       "    <tr style=\"text-align: right;\">\n",
       "      <th></th>\n",
       "      <th>date</th>\n",
       "      <th>county</th>\n",
       "      <th>state</th>\n",
       "      <th>fips</th>\n",
       "      <th>total_cases</th>\n",
       "      <th>deaths</th>\n",
       "      <th>new_cases</th>\n",
       "    </tr>\n",
       "  </thead>\n",
       "  <tbody>\n",
       "    <tr>\n",
       "      <th>4477</th>\n",
       "      <td>2020-03-19</td>\n",
       "      <td>Santa Clara</td>\n",
       "      <td>California</td>\n",
       "      <td>6085.0</td>\n",
       "      <td>189</td>\n",
       "      <td>6</td>\n",
       "      <td>14.0</td>\n",
       "    </tr>\n",
       "    <tr>\n",
       "      <th>5252</th>\n",
       "      <td>2020-03-20</td>\n",
       "      <td>Santa Clara</td>\n",
       "      <td>California</td>\n",
       "      <td>6085.0</td>\n",
       "      <td>196</td>\n",
       "      <td>8</td>\n",
       "      <td>7.0</td>\n",
       "    </tr>\n",
       "    <tr>\n",
       "      <th>6173</th>\n",
       "      <td>2020-03-21</td>\n",
       "      <td>Santa Clara</td>\n",
       "      <td>California</td>\n",
       "      <td>6085.0</td>\n",
       "      <td>263</td>\n",
       "      <td>8</td>\n",
       "      <td>67.0</td>\n",
       "    </tr>\n",
       "    <tr>\n",
       "      <th>7207</th>\n",
       "      <td>2020-03-22</td>\n",
       "      <td>Santa Clara</td>\n",
       "      <td>California</td>\n",
       "      <td>6085.0</td>\n",
       "      <td>303</td>\n",
       "      <td>11</td>\n",
       "      <td>40.0</td>\n",
       "    </tr>\n",
       "    <tr>\n",
       "      <th>8350</th>\n",
       "      <td>2020-03-23</td>\n",
       "      <td>Santa Clara</td>\n",
       "      <td>California</td>\n",
       "      <td>6085.0</td>\n",
       "      <td>321</td>\n",
       "      <td>11</td>\n",
       "      <td>18.0</td>\n",
       "    </tr>\n",
       "    <tr>\n",
       "      <th>9594</th>\n",
       "      <td>2020-03-24</td>\n",
       "      <td>Santa Clara</td>\n",
       "      <td>California</td>\n",
       "      <td>6085.0</td>\n",
       "      <td>375</td>\n",
       "      <td>17</td>\n",
       "      <td>54.0</td>\n",
       "    </tr>\n",
       "    <tr>\n",
       "      <th>10969</th>\n",
       "      <td>2020-03-25</td>\n",
       "      <td>Santa Clara</td>\n",
       "      <td>California</td>\n",
       "      <td>6085.0</td>\n",
       "      <td>459</td>\n",
       "      <td>18</td>\n",
       "      <td>84.0</td>\n",
       "    </tr>\n",
       "    <tr>\n",
       "      <th>12520</th>\n",
       "      <td>2020-03-26</td>\n",
       "      <td>Santa Clara</td>\n",
       "      <td>California</td>\n",
       "      <td>6085.0</td>\n",
       "      <td>542</td>\n",
       "      <td>20</td>\n",
       "      <td>83.0</td>\n",
       "    </tr>\n",
       "    <tr>\n",
       "      <th>14197</th>\n",
       "      <td>2020-03-27</td>\n",
       "      <td>Santa Clara</td>\n",
       "      <td>California</td>\n",
       "      <td>6085.0</td>\n",
       "      <td>574</td>\n",
       "      <td>21</td>\n",
       "      <td>32.0</td>\n",
       "    </tr>\n",
       "    <tr>\n",
       "      <th>15990</th>\n",
       "      <td>2020-03-28</td>\n",
       "      <td>Santa Clara</td>\n",
       "      <td>California</td>\n",
       "      <td>6085.0</td>\n",
       "      <td>591</td>\n",
       "      <td>26</td>\n",
       "      <td>17.0</td>\n",
       "    </tr>\n",
       "    <tr>\n",
       "      <th>17891</th>\n",
       "      <td>2020-03-29</td>\n",
       "      <td>Santa Clara</td>\n",
       "      <td>California</td>\n",
       "      <td>6085.0</td>\n",
       "      <td>646</td>\n",
       "      <td>26</td>\n",
       "      <td>55.0</td>\n",
       "    </tr>\n",
       "    <tr>\n",
       "      <th>19882</th>\n",
       "      <td>2020-03-30</td>\n",
       "      <td>Santa Clara</td>\n",
       "      <td>California</td>\n",
       "      <td>6085.0</td>\n",
       "      <td>848</td>\n",
       "      <td>29</td>\n",
       "      <td>202.0</td>\n",
       "    </tr>\n",
       "    <tr>\n",
       "      <th>21971</th>\n",
       "      <td>2020-03-31</td>\n",
       "      <td>Santa Clara</td>\n",
       "      <td>California</td>\n",
       "      <td>6085.0</td>\n",
       "      <td>890</td>\n",
       "      <td>31</td>\n",
       "      <td>42.0</td>\n",
       "    </tr>\n",
       "    <tr>\n",
       "      <th>24143</th>\n",
       "      <td>2020-04-01</td>\n",
       "      <td>Santa Clara</td>\n",
       "      <td>California</td>\n",
       "      <td>6085.0</td>\n",
       "      <td>956</td>\n",
       "      <td>33</td>\n",
       "      <td>66.0</td>\n",
       "    </tr>\n",
       "  </tbody>\n",
       "</table>\n",
       "</div>"
      ],
      "text/plain": [
       "             date       county       state    fips  total_cases  deaths  \\\n",
       "4477   2020-03-19  Santa Clara  California  6085.0          189       6   \n",
       "5252   2020-03-20  Santa Clara  California  6085.0          196       8   \n",
       "6173   2020-03-21  Santa Clara  California  6085.0          263       8   \n",
       "7207   2020-03-22  Santa Clara  California  6085.0          303      11   \n",
       "8350   2020-03-23  Santa Clara  California  6085.0          321      11   \n",
       "9594   2020-03-24  Santa Clara  California  6085.0          375      17   \n",
       "10969  2020-03-25  Santa Clara  California  6085.0          459      18   \n",
       "12520  2020-03-26  Santa Clara  California  6085.0          542      20   \n",
       "14197  2020-03-27  Santa Clara  California  6085.0          574      21   \n",
       "15990  2020-03-28  Santa Clara  California  6085.0          591      26   \n",
       "17891  2020-03-29  Santa Clara  California  6085.0          646      26   \n",
       "19882  2020-03-30  Santa Clara  California  6085.0          848      29   \n",
       "21971  2020-03-31  Santa Clara  California  6085.0          890      31   \n",
       "24143  2020-04-01  Santa Clara  California  6085.0          956      33   \n",
       "\n",
       "       new_cases  \n",
       "4477        14.0  \n",
       "5252         7.0  \n",
       "6173        67.0  \n",
       "7207        40.0  \n",
       "8350        18.0  \n",
       "9594        54.0  \n",
       "10969       84.0  \n",
       "12520       83.0  \n",
       "14197       32.0  \n",
       "15990       17.0  \n",
       "17891       55.0  \n",
       "19882      202.0  \n",
       "21971       42.0  \n",
       "24143       66.0  "
      ]
     },
     "metadata": {},
     "output_type": "display_data"
    }
   ],
   "source": [
    "show_decade('Santa Clara', 'California', tail=14)"
   ]
  },
  {
   "cell_type": "code",
   "execution_count": 214,
   "metadata": {},
   "outputs": [
    {
     "data": {
      "text/markdown": [
       "## Suffolk New York Decade Times (Past Two Weeks)"
      ],
      "text/plain": [
       "<IPython.core.display.Markdown object>"
      ]
     },
     "metadata": {},
     "output_type": "display_data"
    },
    {
     "data": {
      "text/html": [
       "<div>\n",
       "<style scoped>\n",
       "    .dataframe tbody tr th:only-of-type {\n",
       "        vertical-align: middle;\n",
       "    }\n",
       "\n",
       "    .dataframe tbody tr th {\n",
       "        vertical-align: top;\n",
       "    }\n",
       "\n",
       "    .dataframe thead th {\n",
       "        text-align: right;\n",
       "    }\n",
       "</style>\n",
       "<table border=\"1\" class=\"dataframe\">\n",
       "  <thead>\n",
       "    <tr style=\"text-align: right;\">\n",
       "      <th></th>\n",
       "      <th>date</th>\n",
       "      <th>county</th>\n",
       "      <th>state</th>\n",
       "      <th>fips</th>\n",
       "      <th>total_cases</th>\n",
       "      <th>deaths</th>\n",
       "      <th>new_cases</th>\n",
       "    </tr>\n",
       "  </thead>\n",
       "  <tbody>\n",
       "    <tr>\n",
       "      <th>4889</th>\n",
       "      <td>2020-03-19</td>\n",
       "      <td>Suffolk</td>\n",
       "      <td>New York</td>\n",
       "      <td>36103.0</td>\n",
       "      <td>178</td>\n",
       "      <td>3</td>\n",
       "      <td>62.0</td>\n",
       "    </tr>\n",
       "    <tr>\n",
       "      <th>5740</th>\n",
       "      <td>2020-03-20</td>\n",
       "      <td>Suffolk</td>\n",
       "      <td>New York</td>\n",
       "      <td>36103.0</td>\n",
       "      <td>371</td>\n",
       "      <td>7</td>\n",
       "      <td>193.0</td>\n",
       "    </tr>\n",
       "    <tr>\n",
       "      <th>6735</th>\n",
       "      <td>2020-03-21</td>\n",
       "      <td>Suffolk</td>\n",
       "      <td>New York</td>\n",
       "      <td>36103.0</td>\n",
       "      <td>662</td>\n",
       "      <td>9</td>\n",
       "      <td>291.0</td>\n",
       "    </tr>\n",
       "    <tr>\n",
       "      <th>7831</th>\n",
       "      <td>2020-03-22</td>\n",
       "      <td>Suffolk</td>\n",
       "      <td>New York</td>\n",
       "      <td>36103.0</td>\n",
       "      <td>1034</td>\n",
       "      <td>12</td>\n",
       "      <td>372.0</td>\n",
       "    </tr>\n",
       "    <tr>\n",
       "      <th>9031</th>\n",
       "      <td>2020-03-23</td>\n",
       "      <td>Suffolk</td>\n",
       "      <td>New York</td>\n",
       "      <td>36103.0</td>\n",
       "      <td>1458</td>\n",
       "      <td>13</td>\n",
       "      <td>424.0</td>\n",
       "    </tr>\n",
       "    <tr>\n",
       "      <th>10343</th>\n",
       "      <td>2020-03-24</td>\n",
       "      <td>Suffolk</td>\n",
       "      <td>New York</td>\n",
       "      <td>36103.0</td>\n",
       "      <td>1880</td>\n",
       "      <td>13</td>\n",
       "      <td>422.0</td>\n",
       "    </tr>\n",
       "    <tr>\n",
       "      <th>11784</th>\n",
       "      <td>2020-03-25</td>\n",
       "      <td>Suffolk</td>\n",
       "      <td>New York</td>\n",
       "      <td>36103.0</td>\n",
       "      <td>2260</td>\n",
       "      <td>20</td>\n",
       "      <td>380.0</td>\n",
       "    </tr>\n",
       "    <tr>\n",
       "      <th>13397</th>\n",
       "      <td>2020-03-26</td>\n",
       "      <td>Suffolk</td>\n",
       "      <td>New York</td>\n",
       "      <td>36103.0</td>\n",
       "      <td>2735</td>\n",
       "      <td>22</td>\n",
       "      <td>475.0</td>\n",
       "    </tr>\n",
       "    <tr>\n",
       "      <th>15141</th>\n",
       "      <td>2020-03-27</td>\n",
       "      <td>Suffolk</td>\n",
       "      <td>New York</td>\n",
       "      <td>36103.0</td>\n",
       "      <td>3385</td>\n",
       "      <td>22</td>\n",
       "      <td>650.0</td>\n",
       "    </tr>\n",
       "    <tr>\n",
       "      <th>16982</th>\n",
       "      <td>2020-03-28</td>\n",
       "      <td>Suffolk</td>\n",
       "      <td>New York</td>\n",
       "      <td>36103.0</td>\n",
       "      <td>4138</td>\n",
       "      <td>37</td>\n",
       "      <td>753.0</td>\n",
       "    </tr>\n",
       "    <tr>\n",
       "      <th>18920</th>\n",
       "      <td>2020-03-29</td>\n",
       "      <td>Suffolk</td>\n",
       "      <td>New York</td>\n",
       "      <td>36103.0</td>\n",
       "      <td>5023</td>\n",
       "      <td>40</td>\n",
       "      <td>885.0</td>\n",
       "    </tr>\n",
       "    <tr>\n",
       "      <th>20970</th>\n",
       "      <td>2020-03-30</td>\n",
       "      <td>Suffolk</td>\n",
       "      <td>New York</td>\n",
       "      <td>36103.0</td>\n",
       "      <td>5791</td>\n",
       "      <td>44</td>\n",
       "      <td>768.0</td>\n",
       "    </tr>\n",
       "    <tr>\n",
       "      <th>23112</th>\n",
       "      <td>2020-03-31</td>\n",
       "      <td>Suffolk</td>\n",
       "      <td>New York</td>\n",
       "      <td>36103.0</td>\n",
       "      <td>6713</td>\n",
       "      <td>53</td>\n",
       "      <td>922.0</td>\n",
       "    </tr>\n",
       "    <tr>\n",
       "      <th>25316</th>\n",
       "      <td>2020-04-01</td>\n",
       "      <td>Suffolk</td>\n",
       "      <td>New York</td>\n",
       "      <td>36103.0</td>\n",
       "      <td>7605</td>\n",
       "      <td>69</td>\n",
       "      <td>892.0</td>\n",
       "    </tr>\n",
       "  </tbody>\n",
       "</table>\n",
       "</div>"
      ],
      "text/plain": [
       "             date   county     state     fips  total_cases  deaths  new_cases\n",
       "4889   2020-03-19  Suffolk  New York  36103.0          178       3       62.0\n",
       "5740   2020-03-20  Suffolk  New York  36103.0          371       7      193.0\n",
       "6735   2020-03-21  Suffolk  New York  36103.0          662       9      291.0\n",
       "7831   2020-03-22  Suffolk  New York  36103.0         1034      12      372.0\n",
       "9031   2020-03-23  Suffolk  New York  36103.0         1458      13      424.0\n",
       "10343  2020-03-24  Suffolk  New York  36103.0         1880      13      422.0\n",
       "11784  2020-03-25  Suffolk  New York  36103.0         2260      20      380.0\n",
       "13397  2020-03-26  Suffolk  New York  36103.0         2735      22      475.0\n",
       "15141  2020-03-27  Suffolk  New York  36103.0         3385      22      650.0\n",
       "16982  2020-03-28  Suffolk  New York  36103.0         4138      37      753.0\n",
       "18920  2020-03-29  Suffolk  New York  36103.0         5023      40      885.0\n",
       "20970  2020-03-30  Suffolk  New York  36103.0         5791      44      768.0\n",
       "23112  2020-03-31  Suffolk  New York  36103.0         6713      53      922.0\n",
       "25316  2020-04-01  Suffolk  New York  36103.0         7605      69      892.0"
      ]
     },
     "metadata": {},
     "output_type": "display_data"
    }
   ],
   "source": [
    "show_decade('Suffolk', 'New York')"
   ]
  },
  {
   "cell_type": "markdown",
   "metadata": {},
   "source": [
    "# Calculate Decade Time For All Counties"
   ]
  },
  {
   "cell_type": "code",
   "execution_count": 215,
   "metadata": {},
   "outputs": [
    {
     "name": "stderr",
     "output_type": "stream",
     "text": [
      "100%|██████████| 2248/2248 [00:21<00:00, 104.65it/s]\n"
     ]
    }
   ],
   "source": [
    "county_decade_time = {}\n",
    "for k in tqdm(county_to_fips.keys()):\n",
    "    county_decade_time[k] = decade_time(k[0], k[1])"
   ]
  },
  {
   "cell_type": "code",
   "execution_count": 96,
   "metadata": {},
   "outputs": [],
   "source": [
    "df_decade = pd.DataFrame.from_dict({\"county\":list(county_decade_time.keys()), \"dec_time\": list(county_decade_time.values())})"
   ]
  },
  {
   "cell_type": "code",
   "execution_count": 216,
   "metadata": {},
   "outputs": [
    {
     "data": {
      "text/markdown": [
       "## 20 Worst Counties"
      ],
      "text/plain": [
       "<IPython.core.display.Markdown object>"
      ]
     },
     "metadata": {},
     "output_type": "display_data"
    },
    {
     "data": {
      "text/html": [
       "<div>\n",
       "<style scoped>\n",
       "    .dataframe tbody tr th:only-of-type {\n",
       "        vertical-align: middle;\n",
       "    }\n",
       "\n",
       "    .dataframe tbody tr th {\n",
       "        vertical-align: top;\n",
       "    }\n",
       "\n",
       "    .dataframe thead th {\n",
       "        text-align: right;\n",
       "    }\n",
       "</style>\n",
       "<table border=\"1\" class=\"dataframe\">\n",
       "  <thead>\n",
       "    <tr style=\"text-align: right;\">\n",
       "      <th></th>\n",
       "      <th>county</th>\n",
       "      <th>dec_time</th>\n",
       "    </tr>\n",
       "  </thead>\n",
       "  <tbody>\n",
       "    <tr>\n",
       "      <th>0</th>\n",
       "      <td>(Unknown, Missouri)</td>\n",
       "      <td>0.0</td>\n",
       "    </tr>\n",
       "    <tr>\n",
       "      <th>1</th>\n",
       "      <td>(Unknown, Utah)</td>\n",
       "      <td>1.0</td>\n",
       "    </tr>\n",
       "    <tr>\n",
       "      <th>2</th>\n",
       "      <td>(Hopkins, Kentucky)</td>\n",
       "      <td>2.0</td>\n",
       "    </tr>\n",
       "    <tr>\n",
       "      <th>3</th>\n",
       "      <td>(Jefferson, Ohio)</td>\n",
       "      <td>3.0</td>\n",
       "    </tr>\n",
       "    <tr>\n",
       "      <th>4</th>\n",
       "      <td>(Darke, Ohio)</td>\n",
       "      <td>3.0</td>\n",
       "    </tr>\n",
       "    <tr>\n",
       "      <th>5</th>\n",
       "      <td>(Lawrence, Pennsylvania)</td>\n",
       "      <td>4.0</td>\n",
       "    </tr>\n",
       "    <tr>\n",
       "      <th>6</th>\n",
       "      <td>(St. Lawrence, New York)</td>\n",
       "      <td>4.0</td>\n",
       "    </tr>\n",
       "    <tr>\n",
       "      <th>7</th>\n",
       "      <td>(Iberia, Louisiana)</td>\n",
       "      <td>4.0</td>\n",
       "    </tr>\n",
       "    <tr>\n",
       "      <th>8</th>\n",
       "      <td>(Taylor, Texas)</td>\n",
       "      <td>4.0</td>\n",
       "    </tr>\n",
       "    <tr>\n",
       "      <th>9</th>\n",
       "      <td>(Camden, Missouri)</td>\n",
       "      <td>4.0</td>\n",
       "    </tr>\n",
       "    <tr>\n",
       "      <th>10</th>\n",
       "      <td>(Coffey, Kansas)</td>\n",
       "      <td>4.0</td>\n",
       "    </tr>\n",
       "    <tr>\n",
       "      <th>11</th>\n",
       "      <td>(Christian, Illinois)</td>\n",
       "      <td>4.0</td>\n",
       "    </tr>\n",
       "    <tr>\n",
       "      <th>12</th>\n",
       "      <td>(Carroll, Maryland)</td>\n",
       "      <td>4.0</td>\n",
       "    </tr>\n",
       "    <tr>\n",
       "      <th>13</th>\n",
       "      <td>(Carbon, Pennsylvania)</td>\n",
       "      <td>4.0</td>\n",
       "    </tr>\n",
       "    <tr>\n",
       "      <th>14</th>\n",
       "      <td>(Harrison, Indiana)</td>\n",
       "      <td>5.0</td>\n",
       "    </tr>\n",
       "    <tr>\n",
       "      <th>15</th>\n",
       "      <td>(Ohio, West Virginia)</td>\n",
       "      <td>5.0</td>\n",
       "    </tr>\n",
       "    <tr>\n",
       "      <th>16</th>\n",
       "      <td>(Hall, Nebraska)</td>\n",
       "      <td>5.0</td>\n",
       "    </tr>\n",
       "    <tr>\n",
       "      <th>17</th>\n",
       "      <td>(La Plata, Colorado)</td>\n",
       "      <td>5.0</td>\n",
       "    </tr>\n",
       "    <tr>\n",
       "      <th>18</th>\n",
       "      <td>(Lauderdale, Mississippi)</td>\n",
       "      <td>5.0</td>\n",
       "    </tr>\n",
       "    <tr>\n",
       "      <th>19</th>\n",
       "      <td>(Madison, Indiana)</td>\n",
       "      <td>5.0</td>\n",
       "    </tr>\n",
       "  </tbody>\n",
       "</table>\n",
       "</div>"
      ],
      "text/plain": [
       "                       county  dec_time\n",
       "0         (Unknown, Missouri)       0.0\n",
       "1             (Unknown, Utah)       1.0\n",
       "2         (Hopkins, Kentucky)       2.0\n",
       "3           (Jefferson, Ohio)       3.0\n",
       "4               (Darke, Ohio)       3.0\n",
       "5    (Lawrence, Pennsylvania)       4.0\n",
       "6    (St. Lawrence, New York)       4.0\n",
       "7         (Iberia, Louisiana)       4.0\n",
       "8             (Taylor, Texas)       4.0\n",
       "9          (Camden, Missouri)       4.0\n",
       "10           (Coffey, Kansas)       4.0\n",
       "11      (Christian, Illinois)       4.0\n",
       "12        (Carroll, Maryland)       4.0\n",
       "13     (Carbon, Pennsylvania)       4.0\n",
       "14        (Harrison, Indiana)       5.0\n",
       "15      (Ohio, West Virginia)       5.0\n",
       "16           (Hall, Nebraska)       5.0\n",
       "17       (La Plata, Colorado)       5.0\n",
       "18  (Lauderdale, Mississippi)       5.0\n",
       "19         (Madison, Indiana)       5.0"
      ]
     },
     "execution_count": 216,
     "metadata": {},
     "output_type": "execute_result"
    }
   ],
   "source": [
    "display(Markdown(f\"## 20 Worst Counties\"))\n",
    "df_decade.sort_values('dec_time', ascending=True).reset_index(drop=True).head(20)"
   ]
  },
  {
   "cell_type": "code",
   "execution_count": 217,
   "metadata": {},
   "outputs": [
    {
     "data": {
      "text/markdown": [
       "## 10 Best Counties"
      ],
      "text/plain": [
       "<IPython.core.display.Markdown object>"
      ]
     },
     "metadata": {},
     "output_type": "display_data"
    },
    {
     "data": {
      "text/html": [
       "<div>\n",
       "<style scoped>\n",
       "    .dataframe tbody tr th:only-of-type {\n",
       "        vertical-align: middle;\n",
       "    }\n",
       "\n",
       "    .dataframe tbody tr th {\n",
       "        vertical-align: top;\n",
       "    }\n",
       "\n",
       "    .dataframe thead th {\n",
       "        text-align: right;\n",
       "    }\n",
       "</style>\n",
       "<table border=\"1\" class=\"dataframe\">\n",
       "  <thead>\n",
       "    <tr style=\"text-align: right;\">\n",
       "      <th></th>\n",
       "      <th>county</th>\n",
       "      <th>dec_time</th>\n",
       "    </tr>\n",
       "  </thead>\n",
       "  <tbody>\n",
       "    <tr>\n",
       "      <th>0</th>\n",
       "      <td>(Solano, California)</td>\n",
       "      <td>34.0</td>\n",
       "    </tr>\n",
       "    <tr>\n",
       "      <th>1</th>\n",
       "      <td>(Douglas, Nebraska)</td>\n",
       "      <td>26.0</td>\n",
       "    </tr>\n",
       "    <tr>\n",
       "      <th>2</th>\n",
       "      <td>(Johnson, Iowa)</td>\n",
       "      <td>22.0</td>\n",
       "    </tr>\n",
       "    <tr>\n",
       "      <th>3</th>\n",
       "      <td>(Kittitas, Washington)</td>\n",
       "      <td>22.0</td>\n",
       "    </tr>\n",
       "    <tr>\n",
       "      <th>4</th>\n",
       "      <td>(Harrison, Kentucky)</td>\n",
       "      <td>22.0</td>\n",
       "    </tr>\n",
       "    <tr>\n",
       "      <th>5</th>\n",
       "      <td>(King, Washington)</td>\n",
       "      <td>20.0</td>\n",
       "    </tr>\n",
       "    <tr>\n",
       "      <th>6</th>\n",
       "      <td>(Lancaster, South Carolina)</td>\n",
       "      <td>20.0</td>\n",
       "    </tr>\n",
       "    <tr>\n",
       "      <th>7</th>\n",
       "      <td>(Snohomish, Washington)</td>\n",
       "      <td>19.0</td>\n",
       "    </tr>\n",
       "    <tr>\n",
       "      <th>8</th>\n",
       "      <td>(Fond du Lac, Wisconsin)</td>\n",
       "      <td>19.0</td>\n",
       "    </tr>\n",
       "    <tr>\n",
       "      <th>9</th>\n",
       "      <td>(Forrest, Mississippi)</td>\n",
       "      <td>19.0</td>\n",
       "    </tr>\n",
       "  </tbody>\n",
       "</table>\n",
       "</div>"
      ],
      "text/plain": [
       "                        county  dec_time\n",
       "0         (Solano, California)      34.0\n",
       "1          (Douglas, Nebraska)      26.0\n",
       "2              (Johnson, Iowa)      22.0\n",
       "3       (Kittitas, Washington)      22.0\n",
       "4         (Harrison, Kentucky)      22.0\n",
       "5           (King, Washington)      20.0\n",
       "6  (Lancaster, South Carolina)      20.0\n",
       "7      (Snohomish, Washington)      19.0\n",
       "8     (Fond du Lac, Wisconsin)      19.0\n",
       "9       (Forrest, Mississippi)      19.0"
      ]
     },
     "execution_count": 217,
     "metadata": {},
     "output_type": "execute_result"
    }
   ],
   "source": [
    "display(Markdown(f\"## 10 Best Counties\"))\n",
    "df_decade.sort_values('dec_time', ascending=False).reset_index(drop=True).head(10)"
   ]
  },
  {
   "cell_type": "markdown",
   "metadata": {},
   "source": [
    "## Decade Plots"
   ]
  },
  {
   "cell_type": "code",
   "execution_count": 78,
   "metadata": {},
   "outputs": [],
   "source": [
    "counties = [\n",
    "    ('Boulder', 'Colorado'),\n",
    "    ('Santa Clara', 'California'),\n",
    "    ('Suffolk', 'New York'),\n",
    "    ('Passaic', 'New Jersey')\n",
    "]"
   ]
  },
  {
   "cell_type": "code",
   "execution_count": 79,
   "metadata": {},
   "outputs": [],
   "source": [
    "def decade_plot(counties):\n",
    "    fips = [county_to_fips[x] for x in counties]\n",
    "    g = sns.lineplot(x='date',\n",
    "                     y='decade_time',\n",
    "                     hue='county',\n",
    "                     data=df_counties[df_counties.fips.isin(fips)])\n",
    "    x=plt.xticks(rotation=55)\n",
    "    for i, label in enumerate(g.xaxis.get_ticklabels()):\n",
    "        if i%5==0:\n",
    "            label.set_visible(True)\n",
    "        else:\n",
    "            label.set_visible(False)"
   ]
  },
  {
   "cell_type": "code",
   "execution_count": 80,
   "metadata": {},
   "outputs": [
    {
     "data": {
      "image/png": "[encoded data removed]",
      "text/plain": [
       "<Figure size 432x288 with 1 Axes>"
      ]
     },
     "metadata": {
      "needs_background": "light"
     },
     "output_type": "display_data"
    }
   ],
   "source": [
    "decade_plot(counties)"
   ]
  },
  {
   "cell_type": "code",
   "execution_count": 140,
   "metadata": {},
   "outputs": [],
   "source": [
    "[x for x in df_population.columns if \"pop\" in x.lower()]\n",
    "cols = ['STATE', 'COUNTY', 'STNAME', 'CTYNAME', 'POPESTIMATE2019', 'fips']"
   ]
  },
  {
   "cell_type": "code",
   "execution_count": 159,
   "metadata": {},
   "outputs": [],
   "source": [
    "df_population['fips'] = df_population.apply(lambda x: f\"{x.STATE}{x.COUNTY:03}\", axis=1)\n",
    "fips_to_pop = dict(zip(df_population.fips.astype(int), df_population.POPESTIMATE2019))"
   ]
  },
  {
   "cell_type": "code",
   "execution_count": null,
   "metadata": {},
   "outputs": [],
   "source": []
  }
 ],
 "metadata": {
  "hide_input": false,
  "kernelspec": {
   "display_name": "Python 3",
   "language": "python",
   "name": "python3"
  },
  "language_info": {
   "codemirror_mode": {
    "name": "ipython",
    "version": 3
   },
   "file_extension": ".py",
   "mimetype": "text/x-python",
   "name": "python",
   "nbconvert_exporter": "python",
   "pygments_lexer": "ipython3",
   "version": "3.7.7"
  },
  "toc": {
   "base_numbering": 1,
   "nav_menu": {},
   "number_sections": true,
   "sideBar": true,
   "skip_h1_title": false,
   "title_cell": "Table of Contents",
   "title_sidebar": "Contents",
   "toc_cell": false,
   "toc_position": {},
   "toc_section_display": true,
   "toc_window_display": false
  },
  "varInspector": {
   "cols": {
    "lenName": 16,
    "lenType": 16,
    "lenVar": 40
   },
   "kernels_config": {
    "python": {
     "delete_cmd_postfix": "",
     "delete_cmd_prefix": "del ",
     "library": "var_list.py",
     "varRefreshCmd": "print(var_dic_list())"
    },
    "r": {
     "delete_cmd_postfix": ") ",
     "delete_cmd_prefix": "rm(",
     "library": "var_list.r",
     "varRefreshCmd": "cat(var_dic_list()) "
    }
   },
   "types_to_exclude": [
    "module",
    "function",
    "builtin_function_or_method",
    "instance",
    "_Feature"
   ],
   "window_display": false
  }
 },
 "nbformat": 4,
 "nbformat_minor": 4
}

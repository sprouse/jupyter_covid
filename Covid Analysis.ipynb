{
 "cells": [
  {
   "cell_type": "code",
   "execution_count": null,
   "metadata": {},
   "outputs": [],
   "source": [
    "from IPython.core.display import display, HTML, Markdown\n",
    "import matplotlib.pyplot as plt\n",
    "import pandas as pd\n",
    "import dateparser\n",
    "import seaborn as sns\n",
    "from tqdm import tqdm\n",
    "\n",
    "pd.set_option('display.max_rows', 100)\n",
    "\n",
    "display(HTML(\"<style>.container { width:100% !important; }</style>\"))"
   ]
  },
  {
   "cell_type": "code",
   "execution_count": null,
   "metadata": {},
   "outputs": [],
   "source": [
    "%matplotlib inline"
   ]
  },
  {
   "cell_type": "code",
   "execution_count": null,
   "metadata": {},
   "outputs": [],
   "source": [
    "df_states = pd.read_csv(\"covid-19-data/us-states.csv\")\n",
    "df_states.rename(columns={\"cases\": \"total_cases\"}, inplace=True)\n",
    "df_counties = pd.read_csv(\"covid-19-data/us-counties.csv\")\n",
    "df_counties.rename(columns={\"cases\": \"total_cases\"}, inplace=True)"
   ]
  },
  {
   "cell_type": "code",
   "execution_count": null,
   "metadata": {},
   "outputs": [],
   "source": [
    "df_counties.loc[(df_counties.county == 'New York City') &(df_counties.state == 'New York'), 'fips'] = 100000"
   ]
  },
  {
   "cell_type": "code",
   "execution_count": null,
   "metadata": {},
   "outputs": [],
   "source": [
    "def calc(df):\n",
    "    df['new_cases'] = df.groupby('fips')['total_cases'].diff()"
   ]
  },
  {
   "cell_type": "code",
   "execution_count": null,
   "metadata": {},
   "outputs": [],
   "source": [
    "calc(df_counties)\n",
    "calc(df_states)"
   ]
  },
  {
   "cell_type": "code",
   "execution_count": null,
   "metadata": {},
   "outputs": [],
   "source": [
    "fips_to_state= {k:v for d in list(df_states.groupby([\"state\"]).first().apply(lambda x: {x.fips: x.name}, axis=1)) for k, v in d.items()}\n",
    "state_to_fips= {k:v for d in list(df_states.groupby([\"state\"]).first().apply(lambda x: {x.name: x.fips}, axis=1)) for k, v in d.items()}"
   ]
  },
  {
   "cell_type": "code",
   "execution_count": null,
   "metadata": {},
   "outputs": [],
   "source": [
    "fips_to_county= {k:v for d in list(df_counties.groupby([\"county\", \"state\"]).first().apply(lambda x: {x.fips: x.name}, axis=1)) for k, v in d.items()}\n",
    "county_to_fips= {k:v for d in list(df_counties.groupby([\"county\", \"state\"]).first().apply(lambda x: {x.name: x.fips}, axis=1)) for k, v in d.items()}"
   ]
  },
  {
   "cell_type": "markdown",
   "metadata": {},
   "source": [
    "# Overview"
   ]
  },
  {
   "cell_type": "markdown",
   "metadata": {},
   "source": [
    "The New York Times publishes their Covid-19 dataset daily to github here: `https://github.com/nytimes/covid-19-data.git`\n",
    "\n",
    "This notebook was inspired by the Minute Physics YouTube video: https://www.youtube.com/watch?v=54XLXg4fYsc\n",
    "\n",
    "I wanted to recreate at the local county level the plots that are shown on this site: https://aatishb.com/covidtrends/"
   ]
  },
  {
   "cell_type": "markdown",
   "metadata": {},
   "source": [
    "# Plots"
   ]
  },
  {
   "cell_type": "code",
   "execution_count": null,
   "metadata": {},
   "outputs": [],
   "source": [
    "# Aatish B's log log plot\n",
    "def ll_plot(df, geos, xlim=None, max_pop=None):\n",
    "    ax = plt.gca()\n",
    "    for geo in geos:\n",
    "        if isinstance(geo, tuple):\n",
    "            fip = county_to_fips[geo]\n",
    "            label = f\"{geo[0]}, {geo[1]}\"\n",
    "        else:\n",
    "            fip = state_to_fips[geo]\n",
    "            label = geo\n",
    "        df.query(f\"fips=={fip}\").plot(\n",
    "            x='total_cases', y='new_cases', label=label, ax=ax)\n",
    "    plt.yscale(\"log\")\n",
    "    plt.xscale(\"log\")\n",
    "    plt.ylabel(\"Daily New Cases\")\n",
    "    if xlim:\n",
    "        plt.xlim(1, xlim)\n",
    "    if max_pop:\n",
    "        ax.plot([max_pop[1], max_pop[1]], [1, 1e6],\n",
    "                color=\"red\", linestyle=\"--\")\n",
    "        ax.text(max_pop[1]*.75, 1e1, f\"{max_pop[0]} Population\", rotation=90)"
   ]
  },
  {
   "cell_type": "code",
   "execution_count": null,
   "metadata": {
    "hide_input": false
   },
   "outputs": [],
   "source": [
    "def decade_time(county, state, end_value=None):\n",
    "    df=df_counties\n",
    "    state = state.replace(\"'\", \"\\\\'\")\n",
    "    county = county.replace(\"'\", \"\\\\'\")\n",
    "\n",
    "    if not end_value:\n",
    "        end_value = df.query(f\"state=='{state}' and county=='{county}'\").total_cases.max()\n",
    "    try:\n",
    "        x = df.query(f\"state=='{state}' and county=='{county}' and total_cases<{end_value}\").iloc[-1].date\n",
    "        y = df.query(f\"state=='{state}' and county=='{county}' and total_cases<{end_value/10}\").iloc[-1].date\n",
    "        xd = dateparser.parse(x)\n",
    "        yd = dateparser.parse(y)\n",
    "        delta = xd - yd\n",
    "    except IndexError:\n",
    "        return None\n",
    "    return delta.days"
   ]
  },
  {
   "cell_type": "markdown",
   "metadata": {},
   "source": [
    "The `log-log` plot does not show time and one might wonder how long does it take for the total cases to increase by a factor of 10x. (I called this \" _decade time_ \" ).\n",
    "In each county, for each day compute how many days have elapsed since the total number of cases was 1/10 the current total number of cases.\n",
    "\n",
    "Social distancing should be slowing the rate at which the total cases are growing.\n",
    "We calculate the _decade time_ for every day and for every county.\n",
    "\n",
    "**Note that this calculation may take more than 5 minutes to complete**"
   ]
  },
  {
   "cell_type": "code",
   "execution_count": null,
   "metadata": {},
   "outputs": [],
   "source": [
    "tqdm.pandas()\n",
    "if 'decade_time' not in df_counties.columns:\n",
    "    df_counties['decade_time'] = df_counties.progress_apply(lambda row: decade_time(row.county, row.state, row.total_cases), axis=1)"
   ]
  },
  {
   "cell_type": "markdown",
   "metadata": {},
   "source": [
    "## State Plots"
   ]
  },
  {
   "cell_type": "code",
   "execution_count": null,
   "metadata": {
    "scrolled": true
   },
   "outputs": [],
   "source": [
    "ll_plot(df_states.query(\"total_cases>50\"), geos=[\n",
    "    'California',\n",
    "    'New York',\n",
    "    'Washington',\n",
    "    'Colorado',\n",
    "    \"Michigan\"\n",
    "])"
   ]
  },
  {
   "cell_type": "markdown",
   "metadata": {},
   "source": [
    "## New York City"
   ]
  },
  {
   "cell_type": "code",
   "execution_count": null,
   "metadata": {},
   "outputs": [],
   "source": [
    "ll_plot(df_counties.query(\"total_cases>50\"), geos=[\n",
    "    ('Santa Clara', 'California'),\n",
    "    ('New York City', 'New York')\n",
    "],\n",
    "    max_pop=('New York City', 8.6e6)\n",
    ")"
   ]
  },
  {
   "cell_type": "code",
   "execution_count": null,
   "metadata": {},
   "outputs": [],
   "source": [
    "county='New York City'\n",
    "state='New York'\n",
    "display(Markdown(f\"{county}'s current decade time is {decade_time(county, state)} days\"))"
   ]
  },
  {
   "cell_type": "markdown",
   "metadata": {},
   "source": [
    "## Boulder Colorado"
   ]
  },
  {
   "cell_type": "code",
   "execution_count": null,
   "metadata": {},
   "outputs": [],
   "source": [
    "ll_plot(df_counties.query(\"total_cases>50\"), geos=[\n",
    "    ('Santa Clara', 'California'),\n",
    "    ('Boulder', 'Colorado')\n",
    "],\n",
    "    max_pop=('Boulder', 333e3)\n",
    ")"
   ]
  },
  {
   "cell_type": "code",
   "execution_count": null,
   "metadata": {},
   "outputs": [],
   "source": [
    "county='Boulder'\n",
    "state='Colorado'\n",
    "display(Markdown(f\"{county}'s current decade time is {decade_time(county, state)} days\"))"
   ]
  },
  {
   "cell_type": "markdown",
   "metadata": {},
   "source": [
    "## Wayne MI"
   ]
  },
  {
   "cell_type": "code",
   "execution_count": null,
   "metadata": {},
   "outputs": [],
   "source": [
    "ll_plot(df_counties.query(\"total_cases>50\"), geos=[\n",
    "    ('Weld', 'Colorado'),\n",
    "    ('Boulder', 'Colorado')\n",
    "],\n",
    "    max_pop=('Weld Co', 252e3)\n",
    ")"
   ]
  },
  {
   "cell_type": "code",
   "execution_count": null,
   "metadata": {},
   "outputs": [],
   "source": [
    "county='Weld'\n",
    "state='Colorado'\n",
    "display(Markdown(f\"{county}'s current decade time is {decade_time(county, state)} days\"))"
   ]
  },
  {
   "cell_type": "markdown",
   "metadata": {},
   "source": [
    "## Santa Clara, California"
   ]
  },
  {
   "cell_type": "code",
   "execution_count": null,
   "metadata": {},
   "outputs": [],
   "source": [
    "ll_plot(df_counties.query(\"total_cases>50\"), geos=[\n",
    "    ('Santa Clara', 'California'),\n",
    "    ('Boulder', 'Colorado')\n",
    "],\n",
    "    max_pop=('Santa Clara', 2e6)\n",
    ")"
   ]
  },
  {
   "cell_type": "code",
   "execution_count": null,
   "metadata": {},
   "outputs": [],
   "source": [
    "county='Santa Clara'\n",
    "state='California'\n",
    "display(Markdown(f\"{county}'s current decade time is {decade_time(county, state)} days\"))"
   ]
  },
  {
   "cell_type": "code",
   "execution_count": null,
   "metadata": {},
   "outputs": [],
   "source": [
    "ll_plot(df_counties.query(\"total_cases>50\"), geos=[\n",
    "    ('Santa Clara', 'California'),\n",
    "    ('Suffolk', 'New York')\n",
    "],\n",
    "    max_pop=('Suffolk', 1.5e6)\n",
    ")"
   ]
  },
  {
   "cell_type": "code",
   "execution_count": null,
   "metadata": {},
   "outputs": [],
   "source": [
    "county='Suffolk'\n",
    "state='New York'\n",
    "display(Markdown(f\"{county}'s current decade time is {decade_time(county, state)} days\"))"
   ]
  },
  {
   "cell_type": "markdown",
   "metadata": {},
   "source": [
    "# Tables of \"Decade Times\""
   ]
  },
  {
   "cell_type": "code",
   "execution_count": null,
   "metadata": {},
   "outputs": [],
   "source": [
    "def show_decade(county, state, tail=14):\n",
    "    display(Markdown(f\"## {county} {state} Decade Times (Past Two Weeks)\"))\n",
    "    display(df_counties.query(f\"state=='{state}' and county=='{county}'\").tail(tail))"
   ]
  },
  {
   "cell_type": "code",
   "execution_count": null,
   "metadata": {},
   "outputs": [],
   "source": [
    "show_decade('Boulder', 'Colorado')"
   ]
  },
  {
   "cell_type": "code",
   "execution_count": null,
   "metadata": {},
   "outputs": [],
   "source": [
    "show_decade('Weld', 'Colorado')"
   ]
  },
  {
   "cell_type": "code",
   "execution_count": null,
   "metadata": {},
   "outputs": [],
   "source": [
    "show_decade('Santa Clara', 'California', tail=14)"
   ]
  },
  {
   "cell_type": "code",
   "execution_count": null,
   "metadata": {},
   "outputs": [],
   "source": [
    "show_decade('Suffolk', 'New York')"
   ]
  },
  {
   "cell_type": "markdown",
   "metadata": {},
   "source": [
    "# Calculate Decade Time For All Counties"
   ]
  },
  {
   "cell_type": "code",
   "execution_count": null,
   "metadata": {},
   "outputs": [],
   "source": [
    "county_decade_time = {}\n",
    "for k in tqdm(county_to_fips.keys()):\n",
    "    county_decade_time[k] = decade_time(k[0], k[1])"
   ]
  },
  {
   "cell_type": "code",
   "execution_count": null,
   "metadata": {},
   "outputs": [],
   "source": [
    "df_decade = pd.DataFrame.from_dict({\"county\":list(county_decade_time.keys()), \"dec_time\": list(county_decade_time.values())})"
   ]
  },
  {
   "cell_type": "code",
   "execution_count": null,
   "metadata": {},
   "outputs": [],
   "source": [
    "df_decade.sort_values('dec_time', ascending=True).head(20)"
   ]
  },
  {
   "cell_type": "markdown",
   "metadata": {},
   "source": [
    "## Decade Plots"
   ]
  },
  {
   "cell_type": "code",
   "execution_count": null,
   "metadata": {},
   "outputs": [],
   "source": [
    "counties = [\n",
    "    ('Boulder', 'Colorado'),\n",
    "    ('Santa Clara', 'California'),\n",
    "    ('Suffolk', 'New York')\n",
    "]"
   ]
  },
  {
   "cell_type": "code",
   "execution_count": null,
   "metadata": {},
   "outputs": [],
   "source": [
    "def decade_plot(counties):\n",
    "    fips = [county_to_fips[x] for x in counties]\n",
    "    g = sns.lineplot(x='date',\n",
    "                     y='decade_time',\n",
    "                     hue='county',\n",
    "                     data=df_counties[df_counties.fips.isin(fips)])\n",
    "    x=plt.xticks(rotation=55)\n",
    "    for i, label in enumerate(g.xaxis.get_ticklabels()):\n",
    "        if i%5==0:\n",
    "            label.set_visible(True)\n",
    "        else:\n",
    "            label.set_visible(False)"
   ]
  },
  {
   "cell_type": "code",
   "execution_count": null,
   "metadata": {},
   "outputs": [],
   "source": [
    "decade_plot(counties)"
   ]
  },
  {
   "cell_type": "code",
   "execution_count": null,
   "metadata": {},
   "outputs": [],
   "source": []
  }
 ],
 "metadata": {
  "hide_input": false,
  "kernelspec": {
   "display_name": "Python 3",
   "language": "python",
   "name": "python3"
  },
  "language_info": {
   "codemirror_mode": {
    "name": "ipython",
    "version": 3
   },
   "file_extension": ".py",
   "mimetype": "text/x-python",
   "name": "python",
   "nbconvert_exporter": "python",
   "pygments_lexer": "ipython3",
   "version": "3.7.7"
  },
  "toc": {
   "base_numbering": 1,
   "nav_menu": {},
   "number_sections": true,
   "sideBar": true,
   "skip_h1_title": false,
   "title_cell": "Table of Contents",
   "title_sidebar": "Contents",
   "toc_cell": false,
   "toc_position": {},
   "toc_section_display": true,
   "toc_window_display": false
  },
  "varInspector": {
   "cols": {
    "lenName": 16,
    "lenType": 16,
    "lenVar": 40
   },
   "kernels_config": {
    "python": {
     "delete_cmd_postfix": "",
     "delete_cmd_prefix": "del ",
     "library": "var_list.py",
     "varRefreshCmd": "print(var_dic_list())"
    },
    "r": {
     "delete_cmd_postfix": ") ",
     "delete_cmd_prefix": "rm(",
     "library": "var_list.r",
     "varRefreshCmd": "cat(var_dic_list()) "
    }
   },
   "types_to_exclude": [
    "module",
    "function",
    "builtin_function_or_method",
    "instance",
    "_Feature"
   ],
   "window_display": false
  }
 },
 "nbformat": 4,
 "nbformat_minor": 4
}
